{
 "cells": [
  {
   "cell_type": "code",
   "execution_count": 3,
   "metadata": {},
   "outputs": [],
   "source": [
    "import pandas as pd\n",
    "import math\n"
   ]
  },
  {
   "cell_type": "code",
   "execution_count": 4,
   "metadata": {},
   "outputs": [
    {
     "name": "stdout",
     "output_type": "stream",
     "text": [
      "Dataset URL: https://www.kaggle.com/datasets/gauravmalik26/food-delivery-dataset\n",
      "License(s): other\n",
      "Downloading food-delivery-dataset.zip to /home/markt/dev/maven/PrepVector_ML_group1/notebooks\n",
      " 51%|███████████████████▍                  | 1.00M/1.95M [00:00<00:00, 1.78MB/s]\n",
      "100%|██████████████████████████████████████| 1.95M/1.95M [00:00<00:00, 3.03MB/s]\n"
     ]
    }
   ],
   "source": [
    "!kaggle datasets download -d gauravmalik26/food-delivery-dataset"
   ]
  },
  {
   "cell_type": "code",
   "execution_count": 5,
   "metadata": {},
   "outputs": [
    {
     "name": "stdout",
     "output_type": "stream",
     "text": [
      "Archive:  food-delivery-dataset.zip\n",
      "  inflating: Sample_Submission.csv   \n",
      "  inflating: test.csv                \n",
      "  inflating: train.csv               \n"
     ]
    }
   ],
   "source": [
    "!unzip food-delivery-dataset.zip"
   ]
  },
  {
   "cell_type": "code",
   "execution_count": 7,
   "metadata": {},
   "outputs": [
    {
     "data": {
      "text/plain": [
       "Index(['ID', 'Delivery_person_ID', 'Delivery_person_Age',\n",
       "       'Delivery_person_Ratings', 'Restaurant_latitude',\n",
       "       'Restaurant_longitude', 'Delivery_location_latitude',\n",
       "       'Delivery_location_longitude', 'Order_Date', 'Time_Orderd',\n",
       "       'Time_Order_picked', 'Weatherconditions', 'Road_traffic_density',\n",
       "       'Vehicle_condition', 'Type_of_order', 'Type_of_vehicle',\n",
       "       'multiple_deliveries', 'Festival', 'City', 'Time_taken(min)'],\n",
       "      dtype='object')"
      ]
     },
     "execution_count": 7,
     "metadata": {},
     "output_type": "execute_result"
    }
   ],
   "source": [
    "data = pd.read_csv('train.csv')\n",
    "\n",
    "print(data.columns)\n",
    "\n",
    "data_of_interest = data[[\"Restaurant_longitude\", \"Restaurant_latitude\"]]\n",
    "\n",
    "data_of_interest\n",
    "# \"Restaurant_longitude\"\n",
    "# \"Restaurant_latitude\"\n",
    "# \"Delivery_location_longitude\"\n",
    "# \"Delivery_location_latitude\"\n",
    "# \"Road_traffic_density\"\n",
    "# \"Vehicle_condition\" \n",
    "# \"Time_taken(min)\"\n",
    "# \"Type_of_vehicle\"\n",
    "# \"Time_Orderd\"\n",
    "# \"Time_Order_picked\"\n",
    "# \"Weatherconditions\""
   ]
  },
  {
   "cell_type": "code",
   "execution_count": 5,
   "metadata": {},
   "outputs": [
    {
     "data": {
      "text/plain": [
       "5897.658"
      ]
     },
     "execution_count": 5,
     "metadata": {},
     "output_type": "execute_result"
    }
   ],
   "source": [
    "def calc_dist_with_haversine(coord1: object, coord2: object):\n",
    "\n",
    "    # Coordinates in decimal degrees (e.g. 2.89078, 12.79797)\n",
    "    lon1, lat1 = coord1\n",
    "    lon2, lat2 = coord2\n",
    "\n",
    "    R = 6371000  # radius of Earth in meters\n",
    "    phi_1 = math.radians(lat1)\n",
    "    phi_2 = math.radians(lat2)\n",
    "\n",
    "    delta_phi = math.radians(lat2 - lat1)\n",
    "    delta_lambda = math.radians(lon2 - lon1)\n",
    "\n",
    "    a = math.sin(delta_phi / 2.0) ** 2 + math.cos(phi_1) * math.cos(phi_2) * math.sin(delta_lambda / 2.0) ** 2\n",
    "    \n",
    "    c = 2 * math.atan2(math.sqrt(a), math.sqrt(1 - a))\n",
    "\n",
    "    meters = R * c  # output distance in meters\n",
    "    km = meters / 1000.0  # output distance in kilometers\n",
    "\n",
    "    meters = round(meters, 3)\n",
    "    return round(km, 3)\n",
    "\n",
    "\n",
    "calc_dist_with_haversine([-0.116773, 51.510357], [-77.009003, 38.889931])\n"
   ]
  },
  {
   "cell_type": "code",
   "execution_count": null,
   "metadata": {},
   "outputs": [],
   "source": [
    "def speed_by_distance_and_time(total_kilometers: int, total_time: int):\n",
    "    return total_kilometers / total_time\n",
    "\n",
    "def estimate_time_by_weather_traffic_and_vehicle(weather: str, traffic: str, type_of_vechicle: str):\n",
    "    return ''"
   ]
  }
 ],
 "metadata": {
  "kernelspec": {
   "display_name": "llmops-course",
   "language": "python",
   "name": "python3"
  },
  "language_info": {
   "codemirror_mode": {
    "name": "ipython",
    "version": 3
   },
   "file_extension": ".py",
   "mimetype": "text/x-python",
   "name": "python",
   "nbconvert_exporter": "python",
   "pygments_lexer": "ipython3",
   "version": "3.11.7"
  }
 },
 "nbformat": 4,
 "nbformat_minor": 2
}
