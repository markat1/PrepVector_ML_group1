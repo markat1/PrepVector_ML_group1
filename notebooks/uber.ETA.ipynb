{
 "cells": [
  {
   "cell_type": "code",
   "execution_count": 63,
   "metadata": {},
   "outputs": [],
   "source": [
    "import pandas as pd\n",
    "import math\n",
    "from enum import Enum"
   ]
  },
  {
   "cell_type": "code",
   "execution_count": 4,
   "metadata": {},
   "outputs": [
    {
     "name": "stdout",
     "output_type": "stream",
     "text": [
      "Dataset URL: https://www.kaggle.com/datasets/gauravmalik26/food-delivery-dataset\n",
      "License(s): other\n",
      "Downloading food-delivery-dataset.zip to /home/markt/dev/maven/PrepVector_ML_group1/notebooks\n",
      " 51%|███████████████████▍                  | 1.00M/1.95M [00:00<00:00, 1.78MB/s]\n",
      "100%|██████████████████████████████████████| 1.95M/1.95M [00:00<00:00, 3.03MB/s]\n"
     ]
    }
   ],
   "source": [
    "!kaggle datasets download -d gauravmalik26/food-delivery-dataset"
   ]
  },
  {
   "cell_type": "code",
   "execution_count": 5,
   "metadata": {},
   "outputs": [
    {
     "name": "stdout",
     "output_type": "stream",
     "text": [
      "Archive:  food-delivery-dataset.zip\n",
      "  inflating: Sample_Submission.csv   \n",
      "  inflating: test.csv                \n",
      "  inflating: train.csv               \n"
     ]
    }
   ],
   "source": [
    "!unzip food-delivery-dataset.zip"
   ]
  },
  {
   "cell_type": "code",
   "execution_count": 67,
   "metadata": {},
   "outputs": [
    {
     "name": "stdout",
     "output_type": "stream",
     "text": [
      "Index(['ID', 'Delivery_person_ID', 'Delivery_person_Age',\n",
      "       'Delivery_person_Ratings', 'Restaurant_latitude',\n",
      "       'Restaurant_longitude', 'Delivery_location_latitude',\n",
      "       'Delivery_location_longitude', 'Order_Date', 'Time_Orderd',\n",
      "       'Time_Order_picked', 'Weatherconditions', 'Road_traffic_density',\n",
      "       'Vehicle_condition', 'Type_of_order', 'Type_of_vehicle',\n",
      "       'multiple_deliveries', 'Festival', 'City', 'Time_taken(min)'],\n",
      "      dtype='object')\n"
     ]
    },
    {
     "data": {
      "text/html": [
       "<div>\n",
       "<style scoped>\n",
       "    .dataframe tbody tr th:only-of-type {\n",
       "        vertical-align: middle;\n",
       "    }\n",
       "\n",
       "    .dataframe tbody tr th {\n",
       "        vertical-align: top;\n",
       "    }\n",
       "\n",
       "    .dataframe thead th {\n",
       "        text-align: right;\n",
       "    }\n",
       "</style>\n",
       "<table border=\"1\" class=\"dataframe\">\n",
       "  <thead>\n",
       "    <tr style=\"text-align: right;\">\n",
       "      <th></th>\n",
       "      <th>Restaurant_longitude</th>\n",
       "      <th>Restaurant_latitude</th>\n",
       "      <th>Delivery_location_longitude</th>\n",
       "      <th>Delivery_location_latitude</th>\n",
       "      <th>Road_traffic_density</th>\n",
       "      <th>Vehicle_condition</th>\n",
       "      <th>Type_of_vehicle</th>\n",
       "      <th>Weatherconditions</th>\n",
       "      <th>Time_taken(min)</th>\n",
       "    </tr>\n",
       "  </thead>\n",
       "  <tbody>\n",
       "    <tr>\n",
       "      <th>0</th>\n",
       "      <td>75.892471</td>\n",
       "      <td>22.745049</td>\n",
       "      <td>75.912471</td>\n",
       "      <td>22.765049</td>\n",
       "      <td>High</td>\n",
       "      <td>2</td>\n",
       "      <td>motorcycle</td>\n",
       "      <td>conditions Sunny</td>\n",
       "      <td>(min) 24</td>\n",
       "    </tr>\n",
       "    <tr>\n",
       "      <th>1</th>\n",
       "      <td>77.683237</td>\n",
       "      <td>12.913041</td>\n",
       "      <td>77.813237</td>\n",
       "      <td>13.043041</td>\n",
       "      <td>Jam</td>\n",
       "      <td>2</td>\n",
       "      <td>scooter</td>\n",
       "      <td>conditions Stormy</td>\n",
       "      <td>(min) 33</td>\n",
       "    </tr>\n",
       "    <tr>\n",
       "      <th>2</th>\n",
       "      <td>77.678400</td>\n",
       "      <td>12.914264</td>\n",
       "      <td>77.688400</td>\n",
       "      <td>12.924264</td>\n",
       "      <td>Low</td>\n",
       "      <td>0</td>\n",
       "      <td>motorcycle</td>\n",
       "      <td>conditions Sandstorms</td>\n",
       "      <td>(min) 26</td>\n",
       "    </tr>\n",
       "    <tr>\n",
       "      <th>3</th>\n",
       "      <td>76.976494</td>\n",
       "      <td>11.003669</td>\n",
       "      <td>77.026494</td>\n",
       "      <td>11.053669</td>\n",
       "      <td>Medium</td>\n",
       "      <td>0</td>\n",
       "      <td>motorcycle</td>\n",
       "      <td>conditions Sunny</td>\n",
       "      <td>(min) 21</td>\n",
       "    </tr>\n",
       "    <tr>\n",
       "      <th>4</th>\n",
       "      <td>80.249982</td>\n",
       "      <td>12.972793</td>\n",
       "      <td>80.289982</td>\n",
       "      <td>13.012793</td>\n",
       "      <td>High</td>\n",
       "      <td>1</td>\n",
       "      <td>scooter</td>\n",
       "      <td>conditions Cloudy</td>\n",
       "      <td>(min) 30</td>\n",
       "    </tr>\n",
       "    <tr>\n",
       "      <th>...</th>\n",
       "      <td>...</td>\n",
       "      <td>...</td>\n",
       "      <td>...</td>\n",
       "      <td>...</td>\n",
       "      <td>...</td>\n",
       "      <td>...</td>\n",
       "      <td>...</td>\n",
       "      <td>...</td>\n",
       "      <td>...</td>\n",
       "    </tr>\n",
       "    <tr>\n",
       "      <th>45588</th>\n",
       "      <td>75.794257</td>\n",
       "      <td>26.902328</td>\n",
       "      <td>75.804257</td>\n",
       "      <td>26.912328</td>\n",
       "      <td>High</td>\n",
       "      <td>1</td>\n",
       "      <td>motorcycle</td>\n",
       "      <td>conditions Windy</td>\n",
       "      <td>(min) 32</td>\n",
       "    </tr>\n",
       "    <tr>\n",
       "      <th>45589</th>\n",
       "      <td>0.000000</td>\n",
       "      <td>0.000000</td>\n",
       "      <td>0.070000</td>\n",
       "      <td>0.070000</td>\n",
       "      <td>Jam</td>\n",
       "      <td>0</td>\n",
       "      <td>motorcycle</td>\n",
       "      <td>conditions Windy</td>\n",
       "      <td>(min) 36</td>\n",
       "    </tr>\n",
       "    <tr>\n",
       "      <th>45590</th>\n",
       "      <td>80.242439</td>\n",
       "      <td>13.022394</td>\n",
       "      <td>80.272439</td>\n",
       "      <td>13.052394</td>\n",
       "      <td>Low</td>\n",
       "      <td>1</td>\n",
       "      <td>scooter</td>\n",
       "      <td>conditions Cloudy</td>\n",
       "      <td>(min) 16</td>\n",
       "    </tr>\n",
       "    <tr>\n",
       "      <th>45591</th>\n",
       "      <td>76.986241</td>\n",
       "      <td>11.001753</td>\n",
       "      <td>77.026241</td>\n",
       "      <td>11.041753</td>\n",
       "      <td>High</td>\n",
       "      <td>0</td>\n",
       "      <td>motorcycle</td>\n",
       "      <td>conditions Cloudy</td>\n",
       "      <td>(min) 26</td>\n",
       "    </tr>\n",
       "    <tr>\n",
       "      <th>45592</th>\n",
       "      <td>85.325731</td>\n",
       "      <td>23.351058</td>\n",
       "      <td>85.405731</td>\n",
       "      <td>23.431058</td>\n",
       "      <td>Medium</td>\n",
       "      <td>2</td>\n",
       "      <td>scooter</td>\n",
       "      <td>conditions Fog</td>\n",
       "      <td>(min) 36</td>\n",
       "    </tr>\n",
       "  </tbody>\n",
       "</table>\n",
       "<p>45593 rows × 9 columns</p>\n",
       "</div>"
      ],
      "text/plain": [
       "       Restaurant_longitude  Restaurant_latitude  Delivery_location_longitude  \\\n",
       "0                 75.892471            22.745049                    75.912471   \n",
       "1                 77.683237            12.913041                    77.813237   \n",
       "2                 77.678400            12.914264                    77.688400   \n",
       "3                 76.976494            11.003669                    77.026494   \n",
       "4                 80.249982            12.972793                    80.289982   \n",
       "...                     ...                  ...                          ...   \n",
       "45588             75.794257            26.902328                    75.804257   \n",
       "45589              0.000000             0.000000                     0.070000   \n",
       "45590             80.242439            13.022394                    80.272439   \n",
       "45591             76.986241            11.001753                    77.026241   \n",
       "45592             85.325731            23.351058                    85.405731   \n",
       "\n",
       "       Delivery_location_latitude Road_traffic_density  Vehicle_condition  \\\n",
       "0                       22.765049                High                   2   \n",
       "1                       13.043041                 Jam                   2   \n",
       "2                       12.924264                 Low                   0   \n",
       "3                       11.053669              Medium                   0   \n",
       "4                       13.012793                High                   1   \n",
       "...                           ...                  ...                ...   \n",
       "45588                   26.912328                High                   1   \n",
       "45589                    0.070000                 Jam                   0   \n",
       "45590                   13.052394                 Low                   1   \n",
       "45591                   11.041753                High                   0   \n",
       "45592                   23.431058              Medium                   2   \n",
       "\n",
       "      Type_of_vehicle      Weatherconditions Time_taken(min)  \n",
       "0         motorcycle        conditions Sunny        (min) 24  \n",
       "1            scooter       conditions Stormy        (min) 33  \n",
       "2         motorcycle   conditions Sandstorms        (min) 26  \n",
       "3         motorcycle        conditions Sunny        (min) 21  \n",
       "4            scooter       conditions Cloudy        (min) 30  \n",
       "...               ...                    ...             ...  \n",
       "45588     motorcycle        conditions Windy        (min) 32  \n",
       "45589     motorcycle        conditions Windy        (min) 36  \n",
       "45590        scooter       conditions Cloudy        (min) 16  \n",
       "45591     motorcycle       conditions Cloudy        (min) 26  \n",
       "45592        scooter          conditions Fog        (min) 36  \n",
       "\n",
       "[45593 rows x 9 columns]"
      ]
     },
     "execution_count": 67,
     "metadata": {},
     "output_type": "execute_result"
    }
   ],
   "source": [
    "data = pd.read_csv('../data/raw/Uber.ETA/train.csv').dropna().drop_duplicates()\n",
    "\n",
    "print(data.columns)\n",
    "\n",
    "data_of_interest = data[[\"Restaurant_longitude\", \"Restaurant_latitude\",\"Delivery_location_longitude\", \"Delivery_location_latitude\",\"Road_traffic_density\", \"Vehicle_condition\",\"Type_of_vehicle\",\"Weatherconditions\", \"Time_taken(min)\"]]\n",
    "\n",
    "data_of_interest\n"
   ]
  },
  {
   "cell_type": "code",
   "execution_count": 68,
   "metadata": {},
   "outputs": [
    {
     "data": {
      "text/plain": [
       "20.184"
      ]
     },
     "execution_count": 68,
     "metadata": {},
     "output_type": "execute_result"
    }
   ],
   "source": [
    "def calc_dist_with_haversine(coord1: object, coord2: object):\n",
    "\n",
    "    # Coordinates in decimal degrees (e.g. 2.89078, 12.79797)\n",
    "    lon1, lat1 = coord1\n",
    "    lon2, lat2 = coord2\n",
    "\n",
    "    R = 6371000  # radius of Earth in meters\n",
    "    phi_1 = math.radians(lat1)\n",
    "    phi_2 = math.radians(lat2)\n",
    "\n",
    "    delta_phi = math.radians(lat2 - lat1)\n",
    "    delta_lambda = math.radians(lon2 - lon1)\n",
    "\n",
    "    a = math.sin(delta_phi / 2.0) ** 2 + math.cos(phi_1) * math.cos(phi_2) * math.sin(delta_lambda / 2.0) ** 2\n",
    "    \n",
    "    c = 2 * math.atan2(math.sqrt(a), math.sqrt(1 - a))\n",
    "\n",
    "    meters = R * c  # output distance in meters\n",
    "    km = meters / 1000.0  # output distance in kilometers\n",
    "\n",
    "    return round(km, 3)\n",
    "\n",
    "restaurant_location = data[['Restaurant_longitude', 'Restaurant_latitude']].loc[1]\n",
    "delivery_location = data[['Delivery_location_longitude','Delivery_location_latitude']].loc[1]\n",
    "\n",
    "calc_dist_with_haversine(restaurant_location, delivery_location)\n"
   ]
  },
  {
   "cell_type": "code",
   "execution_count": 70,
   "metadata": {},
   "outputs": [
    {
     "name": "stderr",
     "output_type": "stream",
     "text": [
      "/tmp/ipykernel_54684/3689289916.py:8: SettingWithCopyWarning: \n",
      "A value is trying to be set on a copy of a slice from a DataFrame.\n",
      "Try using .loc[row_indexer,col_indexer] = value instead\n",
      "\n",
      "See the caveats in the documentation: https://pandas.pydata.org/pandas-docs/stable/user_guide/indexing.html#returning-a-view-versus-a-copy\n",
      "  data_of_interest[\"distance_km\"] = data.apply(calc_restaurant_to_delivery_distance, axis=1)\n"
     ]
    },
    {
     "ename": "AttributeError",
     "evalue": "Can only use .str accessor with string values!",
     "output_type": "error",
     "traceback": [
      "\u001b[0;31m---------------------------------------------------------------------------\u001b[0m",
      "\u001b[0;31mAttributeError\u001b[0m                            Traceback (most recent call last)",
      "Cell \u001b[0;32mIn[70], line 9\u001b[0m\n\u001b[1;32m      5\u001b[0m     \u001b[38;5;28;01mreturn\u001b[39;00m calc_dist_with_haversine(restaurant_location,delivery_location)\n\u001b[1;32m      8\u001b[0m data_of_interest[\u001b[38;5;124m\"\u001b[39m\u001b[38;5;124mdistance_km\u001b[39m\u001b[38;5;124m\"\u001b[39m] \u001b[38;5;241m=\u001b[39m data\u001b[38;5;241m.\u001b[39mapply(calc_restaurant_to_delivery_distance, axis\u001b[38;5;241m=\u001b[39m\u001b[38;5;241m1\u001b[39m)\n\u001b[0;32m----> 9\u001b[0m data_of_interest[\u001b[38;5;124m\"\u001b[39m\u001b[38;5;124mTime_taken(min)\u001b[39m\u001b[38;5;124m\"\u001b[39m] \u001b[38;5;241m=\u001b[39m pd\u001b[38;5;241m.\u001b[39mto_numeric(\u001b[43mdata_of_interest\u001b[49m\u001b[43m[\u001b[49m\u001b[38;5;124;43m\"\u001b[39;49m\u001b[38;5;124;43mTime_taken(min)\u001b[39;49m\u001b[38;5;124;43m\"\u001b[39;49m\u001b[43m]\u001b[49m\u001b[38;5;241;43m.\u001b[39;49m\u001b[43mstr\u001b[49m\u001b[38;5;241m.\u001b[39mreplace(\u001b[38;5;124m'\u001b[39m\u001b[38;5;124m(min)\u001b[39m\u001b[38;5;124m'\u001b[39m,\u001b[38;5;124m'\u001b[39m\u001b[38;5;124m'\u001b[39m), errors\u001b[38;5;241m=\u001b[39m\u001b[38;5;124m\"\u001b[39m\u001b[38;5;124mcoerce\u001b[39m\u001b[38;5;124m\"\u001b[39m)\n",
      "File \u001b[0;32m~/anaconda3/envs/llmops-course/lib/python3.11/site-packages/pandas/core/generic.py:6296\u001b[0m, in \u001b[0;36mNDFrame.__getattr__\u001b[0;34m(self, name)\u001b[0m\n\u001b[1;32m   6289\u001b[0m \u001b[38;5;28;01mif\u001b[39;00m (\n\u001b[1;32m   6290\u001b[0m     name \u001b[38;5;129;01mnot\u001b[39;00m \u001b[38;5;129;01min\u001b[39;00m \u001b[38;5;28mself\u001b[39m\u001b[38;5;241m.\u001b[39m_internal_names_set\n\u001b[1;32m   6291\u001b[0m     \u001b[38;5;129;01mand\u001b[39;00m name \u001b[38;5;129;01mnot\u001b[39;00m \u001b[38;5;129;01min\u001b[39;00m \u001b[38;5;28mself\u001b[39m\u001b[38;5;241m.\u001b[39m_metadata\n\u001b[1;32m   6292\u001b[0m     \u001b[38;5;129;01mand\u001b[39;00m name \u001b[38;5;129;01mnot\u001b[39;00m \u001b[38;5;129;01min\u001b[39;00m \u001b[38;5;28mself\u001b[39m\u001b[38;5;241m.\u001b[39m_accessors\n\u001b[1;32m   6293\u001b[0m     \u001b[38;5;129;01mand\u001b[39;00m \u001b[38;5;28mself\u001b[39m\u001b[38;5;241m.\u001b[39m_info_axis\u001b[38;5;241m.\u001b[39m_can_hold_identifiers_and_holds_name(name)\n\u001b[1;32m   6294\u001b[0m ):\n\u001b[1;32m   6295\u001b[0m     \u001b[38;5;28;01mreturn\u001b[39;00m \u001b[38;5;28mself\u001b[39m[name]\n\u001b[0;32m-> 6296\u001b[0m \u001b[38;5;28;01mreturn\u001b[39;00m \u001b[38;5;28;43mobject\u001b[39;49m\u001b[38;5;241;43m.\u001b[39;49m\u001b[38;5;21;43m__getattribute__\u001b[39;49m\u001b[43m(\u001b[49m\u001b[38;5;28;43mself\u001b[39;49m\u001b[43m,\u001b[49m\u001b[43m \u001b[49m\u001b[43mname\u001b[49m\u001b[43m)\u001b[49m\n",
      "File \u001b[0;32m~/anaconda3/envs/llmops-course/lib/python3.11/site-packages/pandas/core/accessor.py:224\u001b[0m, in \u001b[0;36mCachedAccessor.__get__\u001b[0;34m(self, obj, cls)\u001b[0m\n\u001b[1;32m    221\u001b[0m \u001b[38;5;28;01mif\u001b[39;00m obj \u001b[38;5;129;01mis\u001b[39;00m \u001b[38;5;28;01mNone\u001b[39;00m:\n\u001b[1;32m    222\u001b[0m     \u001b[38;5;66;03m# we're accessing the attribute of the class, i.e., Dataset.geo\u001b[39;00m\n\u001b[1;32m    223\u001b[0m     \u001b[38;5;28;01mreturn\u001b[39;00m \u001b[38;5;28mself\u001b[39m\u001b[38;5;241m.\u001b[39m_accessor\n\u001b[0;32m--> 224\u001b[0m accessor_obj \u001b[38;5;241m=\u001b[39m \u001b[38;5;28;43mself\u001b[39;49m\u001b[38;5;241;43m.\u001b[39;49m\u001b[43m_accessor\u001b[49m\u001b[43m(\u001b[49m\u001b[43mobj\u001b[49m\u001b[43m)\u001b[49m\n\u001b[1;32m    225\u001b[0m \u001b[38;5;66;03m# Replace the property with the accessor object. Inspired by:\u001b[39;00m\n\u001b[1;32m    226\u001b[0m \u001b[38;5;66;03m# https://www.pydanny.com/cached-property.html\u001b[39;00m\n\u001b[1;32m    227\u001b[0m \u001b[38;5;66;03m# We need to use object.__setattr__ because we overwrite __setattr__ on\u001b[39;00m\n\u001b[1;32m    228\u001b[0m \u001b[38;5;66;03m# NDFrame\u001b[39;00m\n\u001b[1;32m    229\u001b[0m \u001b[38;5;28mobject\u001b[39m\u001b[38;5;241m.\u001b[39m\u001b[38;5;21m__setattr__\u001b[39m(obj, \u001b[38;5;28mself\u001b[39m\u001b[38;5;241m.\u001b[39m_name, accessor_obj)\n",
      "File \u001b[0;32m~/anaconda3/envs/llmops-course/lib/python3.11/site-packages/pandas/core/strings/accessor.py:191\u001b[0m, in \u001b[0;36mStringMethods.__init__\u001b[0;34m(self, data)\u001b[0m\n\u001b[1;32m    188\u001b[0m \u001b[38;5;28;01mdef\u001b[39;00m \u001b[38;5;21m__init__\u001b[39m(\u001b[38;5;28mself\u001b[39m, data) \u001b[38;5;241m-\u001b[39m\u001b[38;5;241m>\u001b[39m \u001b[38;5;28;01mNone\u001b[39;00m:\n\u001b[1;32m    189\u001b[0m     \u001b[38;5;28;01mfrom\u001b[39;00m \u001b[38;5;21;01mpandas\u001b[39;00m\u001b[38;5;21;01m.\u001b[39;00m\u001b[38;5;21;01mcore\u001b[39;00m\u001b[38;5;21;01m.\u001b[39;00m\u001b[38;5;21;01marrays\u001b[39;00m\u001b[38;5;21;01m.\u001b[39;00m\u001b[38;5;21;01mstring_\u001b[39;00m \u001b[38;5;28;01mimport\u001b[39;00m StringDtype\n\u001b[0;32m--> 191\u001b[0m     \u001b[38;5;28mself\u001b[39m\u001b[38;5;241m.\u001b[39m_inferred_dtype \u001b[38;5;241m=\u001b[39m \u001b[38;5;28;43mself\u001b[39;49m\u001b[38;5;241;43m.\u001b[39;49m\u001b[43m_validate\u001b[49m\u001b[43m(\u001b[49m\u001b[43mdata\u001b[49m\u001b[43m)\u001b[49m\n\u001b[1;32m    192\u001b[0m     \u001b[38;5;28mself\u001b[39m\u001b[38;5;241m.\u001b[39m_is_categorical \u001b[38;5;241m=\u001b[39m \u001b[38;5;28misinstance\u001b[39m(data\u001b[38;5;241m.\u001b[39mdtype, CategoricalDtype)\n\u001b[1;32m    193\u001b[0m     \u001b[38;5;28mself\u001b[39m\u001b[38;5;241m.\u001b[39m_is_string \u001b[38;5;241m=\u001b[39m \u001b[38;5;28misinstance\u001b[39m(data\u001b[38;5;241m.\u001b[39mdtype, StringDtype)\n",
      "File \u001b[0;32m~/anaconda3/envs/llmops-course/lib/python3.11/site-packages/pandas/core/strings/accessor.py:245\u001b[0m, in \u001b[0;36mStringMethods._validate\u001b[0;34m(data)\u001b[0m\n\u001b[1;32m    242\u001b[0m inferred_dtype \u001b[38;5;241m=\u001b[39m lib\u001b[38;5;241m.\u001b[39minfer_dtype(values, skipna\u001b[38;5;241m=\u001b[39m\u001b[38;5;28;01mTrue\u001b[39;00m)\n\u001b[1;32m    244\u001b[0m \u001b[38;5;28;01mif\u001b[39;00m inferred_dtype \u001b[38;5;129;01mnot\u001b[39;00m \u001b[38;5;129;01min\u001b[39;00m allowed_types:\n\u001b[0;32m--> 245\u001b[0m     \u001b[38;5;28;01mraise\u001b[39;00m \u001b[38;5;167;01mAttributeError\u001b[39;00m(\u001b[38;5;124m\"\u001b[39m\u001b[38;5;124mCan only use .str accessor with string values!\u001b[39m\u001b[38;5;124m\"\u001b[39m)\n\u001b[1;32m    246\u001b[0m \u001b[38;5;28;01mreturn\u001b[39;00m inferred_dtype\n",
      "\u001b[0;31mAttributeError\u001b[0m: Can only use .str accessor with string values!"
     ]
    }
   ],
   "source": [
    "def calc_restaurant_to_delivery_distance(row):\n",
    "    restaurant_location = row[['Restaurant_longitude', 'Restaurant_latitude']]\n",
    "    delivery_location = row[['Delivery_location_longitude','Delivery_location_latitude']]\n",
    "\n",
    "    return calc_dist_with_haversine(restaurant_location,delivery_location)\n",
    "\n",
    "\n",
    "data_of_interest[\"distance_km\"] = data.apply(calc_restaurant_to_delivery_distance, axis=1)\n",
    "data_of_interest[\"Time_taken(min)\"] = pd.to_numeric(data_of_interest[\"Time_taken(min)\"].str.replace('(min)',''), errors=\"coerce\")"
   ]
  },
  {
   "cell_type": "code",
   "execution_count": null,
   "metadata": {},
   "outputs": [
    {
     "data": {
      "text/plain": [
       "0         3.025\n",
       "1        20.184\n",
       "2         1.553\n",
       "3         7.790\n",
       "4         6.210\n",
       "          ...  \n",
       "45588     1.490\n",
       "45589    11.008\n",
       "45590     4.657\n",
       "45591     6.232\n",
       "45592    12.074\n",
       "Name: distance_km, Length: 45593, dtype: float64"
      ]
     },
     "execution_count": 33,
     "metadata": {},
     "output_type": "execute_result"
    }
   ],
   "source": [
    "data_of_interest[\"distance_km\"]"
   ]
  },
  {
   "cell_type": "code",
   "execution_count": null,
   "metadata": {},
   "outputs": [],
   "source": [
    "class Color(Enum):\n",
    "    RED = 1\n",
    "    GREEN = 2\n",
    "    BLUE = 3"
   ]
  },
  {
   "cell_type": "code",
   "execution_count": 78,
   "metadata": {},
   "outputs": [
    {
     "data": {
      "text/plain": [
       "11.437493275679222"
      ]
     },
     "execution_count": 78,
     "metadata": {},
     "output_type": "execute_result"
    }
   ],
   "source": [
    "def average_speed_by_distance_and_time(total_kilometers: float, total_time: float):\n",
    "    return total_kilometers / total_time\n",
    "\n",
    "def calc_restaurant_to_delivery_distance(row):\n",
    "    return calc_dist_with_haversine(row[['Restaurant_longitude', 'Restaurant_latitude']], row[['Delivery_location_latitude','Delivery_location_longitude']])\n",
    "\n",
    "def estimate_time_by_estimators(total_distance: float,\n",
    "                                type_of_vehicle: str = \"scooter\",\n",
    "                                condition: int = 2,\n",
    "                                weather: str = \"conditions Sunny\",\n",
    "                                traffic_condition: str = \"High\"):\n",
    "    vehicle = data_of_interest[\"Type_of_vehicle\"].str.strip() == type_of_vehicle\n",
    "    vehicle_condition = data_of_interest[\"Vehicle_condition\"] == condition\n",
    "    weather = data_of_interest[\"Weatherconditions\"].str.strip() == weather\n",
    "    traffic = data_of_interest[\"Road_traffic_density\"].str.strip() == traffic_condition\n",
    "\n",
    "    specific_data = data_of_interest.loc[(vehicle & weather) & (traffic & vehicle_condition)]\n",
    "    \n",
    "    average_speed = average_speed_by_distance_and_time(specific_data['distance_km'].sum(), specific_data['Time_taken(min)'].sum())\n",
    "\n",
    "    return total_distance / average_speed \n",
    "\n",
    "distance = data_of_interest[\"distance_km\"][0]\n",
    "\n",
    "time = estimate_time_by_estimators(distance)\n",
    "\n",
    "time"
   ]
  },
  {
   "cell_type": "code",
   "execution_count": 79,
   "metadata": {},
   "outputs": [
    {
     "data": {
      "text/plain": [
       "0.2644810298102981"
      ]
     },
     "execution_count": 79,
     "metadata": {},
     "output_type": "execute_result"
    }
   ],
   "source": [
    "speed =  distance / time\n",
    "\n",
    "speed"
   ]
  },
  {
   "cell_type": "code",
   "execution_count": 80,
   "metadata": {},
   "outputs": [
    {
     "data": {
      "text/plain": [
       "3.025"
      ]
     },
     "execution_count": 80,
     "metadata": {},
     "output_type": "execute_result"
    }
   ],
   "source": [
    "distance = speed * time\n",
    "distance"
   ]
  },
  {
   "cell_type": "code",
   "execution_count": null,
   "metadata": {},
   "outputs": [],
   "source": []
  }
 ],
 "metadata": {
  "kernelspec": {
   "display_name": "llmops-course",
   "language": "python",
   "name": "python3"
  },
  "language_info": {
   "codemirror_mode": {
    "name": "ipython",
    "version": 3
   },
   "file_extension": ".py",
   "mimetype": "text/x-python",
   "name": "python",
   "nbconvert_exporter": "python",
   "pygments_lexer": "ipython3",
   "version": "3.11.7"
  }
 },
 "nbformat": 4,
 "nbformat_minor": 2
}
